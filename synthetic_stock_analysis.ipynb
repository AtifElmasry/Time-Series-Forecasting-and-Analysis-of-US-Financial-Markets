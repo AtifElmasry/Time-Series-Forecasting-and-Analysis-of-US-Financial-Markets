{
 "cells": [
  {
   "cell_type": "markdown",
   "id": "39c26c24",
   "metadata": {},
   "source": [
    "# 📊 Synthetic Stock Data Analysis\n",
    "This notebook analyzes synthetic stock market data with visualizations, statistical tests, and basic forecasting."
   ]
  },
  {
   "cell_type": "code",
   "execution_count": null,
   "id": "e35d0500",
   "metadata": {},
   "outputs": [],
   "source": [
    "import pandas as pd\n",
    "import matplotlib.pyplot as plt\n",
    "from pandas.plotting import autocorrelation_plot\n",
    "from statsmodels.tsa.stattools import adfuller\n",
    "from sklearn.linear_model import LinearRegression\n",
    "import numpy as np"
   ]
  },
  {
   "cell_type": "markdown",
   "id": "7d636034",
   "metadata": {},
   "source": [
    "## 📥 Load the CSV data"
   ]
  },
  {
   "cell_type": "code",
   "execution_count": null,
   "id": "14723909",
   "metadata": {},
   "outputs": [],
   "source": [
    "data = pd.read_csv('synthetic_stock_data.csv', parse_dates=True, index_col=0)\n",
    "data.head()"
   ]
  },
  {
   "cell_type": "markdown",
   "id": "0d645621",
   "metadata": {},
   "source": [
    "## 🧾 Dataset Overview"
   ]
  },
  {
   "cell_type": "code",
   "execution_count": null,
   "id": "d37e576a",
   "metadata": {},
   "outputs": [],
   "source": [
    "data.info()"
   ]
  },
  {
   "cell_type": "markdown",
   "id": "d8ad5924",
   "metadata": {},
   "source": [
    "## 📈 Plot Close Price Over Time"
   ]
  },
  {
   "cell_type": "code",
   "execution_count": null,
   "id": "0686699b",
   "metadata": {},
   "outputs": [],
   "source": [
    "plt.figure(figsize=(12, 6))\n",
    "plt.plot(data['Close'], label='Close Price')\n",
    "plt.title('Synthetic Stock Close Price Over Time')\n",
    "plt.xlabel('Date')\n",
    "plt.ylabel('Close Price')\n",
    "plt.legend()\n",
    "plt.show()"
   ]
  },
  {
   "cell_type": "markdown",
   "id": "515525c5",
   "metadata": {},
   "source": [
    "## 🔄 Autocorrelation Plot"
   ]
  },
  {
   "cell_type": "code",
   "execution_count": null,
   "id": "26773d79",
   "metadata": {},
   "outputs": [],
   "source": [
    "plt.figure(figsize=(12, 6))\n",
    "autocorrelation_plot(data['Close'])\n",
    "plt.title('Autocorrelation of Close Prices')\n",
    "plt.show()"
   ]
  },
  {
   "cell_type": "markdown",
   "id": "765b6792",
   "metadata": {},
   "source": [
    "## 🧪 ADF Test for Stationarity"
   ]
  },
  {
   "cell_type": "code",
   "execution_count": null,
   "id": "a77ccf17",
   "metadata": {},
   "outputs": [],
   "source": [
    "result = adfuller(data['Close'])\n",
    "print('ADF Statistic:', result[0])\n",
    "print('p-value:', result[1])\n",
    "print('Critical Values:', result[4])"
   ]
  },
  {
   "cell_type": "markdown",
   "id": "3c3412e4",
   "metadata": {},
   "source": [
    "## 🤖 Predictive Modeling with Linear Regression"
   ]
  },
  {
   "cell_type": "code",
   "execution_count": null,
   "id": "b4b61316",
   "metadata": {},
   "outputs": [],
   "source": [
    "data['Day'] = np.arange(len(data))\n",
    "X = data[['Day']]\n",
    "y = data['Close']\n",
    "\n",
    "model = LinearRegression()\n",
    "model.fit(X, y)\n",
    "\n",
    "data['Predicted_Close'] = model.predict(X)"
   ]
  },
  {
   "cell_type": "code",
   "execution_count": null,
   "id": "e9ac4f38",
   "metadata": {},
   "outputs": [],
   "source": [
    "plt.figure(figsize=(12, 6))\n",
    "plt.plot(data.index, data['Close'], label='Actual Close')\n",
    "plt.plot(data.index, data['Predicted_Close'], label='Predicted Close', linestyle='--')\n",
    "plt.title('Actual vs Predicted Close Prices')\n",
    "plt.xlabel('Date')\n",
    "plt.ylabel('Close Price')\n",
    "plt.legend()\n",
    "plt.show()"
   ]
  }
 ],
 "metadata": {},
 "nbformat": 4,
 "nbformat_minor": 5
}
